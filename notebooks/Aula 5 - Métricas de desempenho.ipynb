{
 "cells": [
  {
   "cell_type": "markdown",
   "id": "7261603e",
   "metadata": {},
   "source": [
    "## Métricas\n",
    "\n",
    "**Métricas de desempenho**  são formas de quantificar o desempenho de um algoritmo. Podem ser utilizadas para avalia o quanto um algoritmo acerta ou erra, de forma equilibrada ou focada em parte dos dados. "
   ]
  },
  {
   "cell_type": "markdown",
   "id": "952b4717",
   "metadata": {},
   "source": [
    "As principais métricas para classificação são obtidas a partir da `Matriz de confusão`."
   ]
  },
  {
   "cell_type": "markdown",
   "id": "de52aa10",
   "metadata": {},
   "source": [
    "<img src=https://diegonogare.net/wp-content/uploads/2020/04/matrizConfusao-600x381.png height=\"400\" width=\"400\">\n",
    "\n",
    "No Sklearn, a notação muda um pouco:\n",
    "\n",
    "<img src=\"https://static.packt-cdn.com/products/9781838555078/graphics/C13314_06_05.jpg\" width=400>\n",
    "\n",
    "Note que a diagonal principal são as observações que o modelo acertou! Temos:\n",
    "\n",
    "- Verdadeiros Positivos (VP): classificação correta da classe positivo;\n",
    "- Verdadeiros Negativos (VN): classificação correta da classe negativo;\n",
    "- Falsos Positivos (FP, erro tipo I): correto: negativo. Previsto: positivo.\n",
    "- Falsos Negativos (FN, erro tipo II): correto: positivo. Previsto: negativo.\n",
    "\n",
    "Um jeito fácil de lembrar os tipos de erros:\n",
    "\n",
    "\n",
    "<img src=\"https://i.pinimg.com/originals/f6/9b/11/f69b111014ef466fe541a393346d2c3a.jpg\" height=\"400\" width=\"400\">\n",
    "\n"
   ]
  },
  {
   "cell_type": "code",
   "execution_count": null,
   "id": "e2938bd5",
   "metadata": {},
   "outputs": [],
   "source": []
  },
  {
   "cell_type": "markdown",
   "id": "a31e3e11",
   "metadata": {},
   "source": [
    "Além disso, temos as seguintes métricas numéricas de avaliação:\n",
    "\n",
    "- Acurácia (Accuracy): porcentagem de classificações CORRETAS do modelo;\n",
    "\n",
    "- Precisão (Precision): das respostas retornadas, quantas são relevantes? -- é a razão entre verdadeiros positivos e o  número de **preditos positivos**, isto é, positivos quanto à **label predita pelo modelo**.\n",
    "\n",
    "- Revocação/Sensibilidade (Recall/Sensitivity): das respostas relevantes, quantas são retornadas? -- é a razão entre verdadeiros positivos e o  número de **verdadeiramente positivos**, isto é, positivos quanto à **label real**.\n",
    "\n",
    "- F1-Score: média harmônica de precision e recall.\n",
    "\n",
    "<img src=\"https://upload.wikimedia.org/wikipedia/commons/thumb/2/26/Precisionrecall.svg/1200px-Precisionrecall.svg.png\" width=500>\n",
    "\n",
    "Devido ao <a href=\"https://medium.com/opex-analytics/why-you-need-to-understand-the-trade-off-between-precision-and-recall-525a33919942\">tradeoff entre precision e recall</a>, uma métrica que em muitos casos é interessante de ser otimizada é o F1! \n",
    "\n",
    "<img src=\"https://miro.medium.com/max/1080/1*t1vf-ofJrJqtmam0KSn3EQ.png\" height=\"400\" width=\"600\">\n",
    "\n",
    "Adiante, veremos como calcular a matriz de confusão e as métricas acima para problemas de classificação!\n",
    "\n",
    "Especificidade e sensibilidade:\n",
    "\n",
    "<img src=https://upload.wikimedia.org/wikipedia/commons/thumb/5/5a/Sensitivity_and_specificity_1.01.svg/341px-Sensitivity_and_specificity_1.01.svg.png width=500>"
   ]
  },
  {
   "cell_type": "code",
   "execution_count": null,
   "id": "40ad1e9b",
   "metadata": {},
   "outputs": [],
   "source": []
  },
  {
   "cell_type": "markdown",
   "id": "02e61ad8",
   "metadata": {},
   "source": [
    "<img src=\"https://miro.medium.com/v2/resize:fit:1400/1*ajeZHSvE0YZgQI9L9Wy34w.png\">"
   ]
  },
  {
   "cell_type": "markdown",
   "id": "e61d61b8",
   "metadata": {},
   "source": [
    "### Métricas mais relevantes de acordo com o problema\n",
    "\n",
    " - Classificação de spam\n",
    " - Detecção de fraudes\n",
    " - Teste de doenças\n",
    " - Teste de gravidez"
   ]
  },
  {
   "cell_type": "markdown",
   "id": "b17f262d",
   "metadata": {},
   "source": [
    "### Construção do modelo"
   ]
  },
  {
   "cell_type": "code",
   "execution_count": null,
   "id": "a7641506",
   "metadata": {},
   "outputs": [],
   "source": []
  },
  {
   "cell_type": "code",
   "execution_count": null,
   "id": "612ba3d5",
   "metadata": {},
   "outputs": [],
   "source": []
  },
  {
   "cell_type": "markdown",
   "id": "180cffa2",
   "metadata": {},
   "source": [
    "### Avaliação"
   ]
  },
  {
   "cell_type": "code",
   "execution_count": null,
   "id": "19d37eb1",
   "metadata": {},
   "outputs": [],
   "source": []
  },
  {
   "cell_type": "code",
   "execution_count": null,
   "id": "5270a3c8",
   "metadata": {},
   "outputs": [],
   "source": []
  },
  {
   "cell_type": "markdown",
   "id": "f11c8871",
   "metadata": {},
   "source": [
    "#### Matriz de confusão"
   ]
  },
  {
   "cell_type": "code",
   "execution_count": null,
   "id": "39743384",
   "metadata": {},
   "outputs": [],
   "source": []
  },
  {
   "cell_type": "code",
   "execution_count": null,
   "id": "355aa3ed",
   "metadata": {},
   "outputs": [],
   "source": []
  },
  {
   "cell_type": "markdown",
   "id": "3b07677c",
   "metadata": {},
   "source": [
    "#### Relatório de desempenho"
   ]
  },
  {
   "cell_type": "code",
   "execution_count": null,
   "id": "681c525c",
   "metadata": {},
   "outputs": [],
   "source": []
  },
  {
   "cell_type": "code",
   "execution_count": null,
   "id": "d5633f8d",
   "metadata": {},
   "outputs": [],
   "source": []
  },
  {
   "cell_type": "markdown",
   "id": "ebe75615",
   "metadata": {},
   "source": [
    "### Limiar de corte"
   ]
  },
  {
   "cell_type": "code",
   "execution_count": null,
   "id": "311b419b",
   "metadata": {},
   "outputs": [],
   "source": []
  },
  {
   "cell_type": "code",
   "execution_count": null,
   "id": "754b3911",
   "metadata": {},
   "outputs": [],
   "source": []
  },
  {
   "cell_type": "markdown",
   "id": "a3228e71",
   "metadata": {},
   "source": [
    "#### Comparativo de métricas com vários pontos de corte"
   ]
  },
  {
   "cell_type": "code",
   "execution_count": null,
   "id": "d0556f9b",
   "metadata": {},
   "outputs": [],
   "source": []
  },
  {
   "cell_type": "markdown",
   "id": "49df97a4",
   "metadata": {},
   "source": [
    "### Tradeoff Precision/Recall"
   ]
  },
  {
   "cell_type": "code",
   "execution_count": null,
   "id": "d39cdaba",
   "metadata": {},
   "outputs": [],
   "source": []
  },
  {
   "cell_type": "markdown",
   "id": "88baf2a3",
   "metadata": {},
   "source": [
    "Ajuste no algoritmo que leva a priorização da detecção de falsos positivos (`precisão`) ou falsos negativos(`recall`), que deve ser feita de acordo com o problema abordado."
   ]
  },
  {
   "cell_type": "code",
   "execution_count": null,
   "id": "41684f9a",
   "metadata": {},
   "outputs": [],
   "source": []
  },
  {
   "cell_type": "code",
   "execution_count": null,
   "id": "fb37c030",
   "metadata": {},
   "outputs": [],
   "source": []
  },
  {
   "cell_type": "markdown",
   "id": "3efa2aa9",
   "metadata": {},
   "source": [
    "Em resumo, o tradeoff entre precisão e recall envolve uma troca entre minimizar os falsos positivos (aumentando a precisão) e minimizar os falsos negativos (aumentando o recall). A escolha adequada depende do contexto do problema e das consequências práticas dos erros de classificação."
   ]
  },
  {
   "cell_type": "markdown",
   "id": "9947c5fa",
   "metadata": {},
   "source": [
    "### Trade off de viés e variância\n",
    "\n",
    "Tipos de erros caracterizados por uma maior \"variabilidade\" (variância) das previsões ou uma maior \"tendência\"(viés) em relação aos dados reais.\n",
    "\n",
    "<img src=\"https://miro.medium.com/v2/resize:fit:984/0*_zo14nQHrTJ-DF00.png\">\n",
    "\n",
    "#### Acertando na mosca\n",
    "\n",
    "<img src=\"https://miro.medium.com/v2/resize:fit:640/format:webp/1*k9t4QYe2pDcS-NfZetVETA.png\">\n",
    "\n",
    "Para saber mais: [O que é bias-variance](https://medium.com/data-hackers/o-que-é-bias-variance-tradeoff-a5bc19866e4b)"
   ]
  },
  {
   "cell_type": "code",
   "execution_count": null,
   "id": "18a894e4",
   "metadata": {},
   "outputs": [],
   "source": []
  }
 ],
 "metadata": {
  "kernelspec": {
   "display_name": "Python 3 (ipykernel)",
   "language": "python",
   "name": "python3"
  },
  "language_info": {
   "codemirror_mode": {
    "name": "ipython",
    "version": 3
   },
   "file_extension": ".py",
   "mimetype": "text/x-python",
   "name": "python",
   "nbconvert_exporter": "python",
   "pygments_lexer": "ipython3",
   "version": "3.10.9"
  }
 },
 "nbformat": 4,
 "nbformat_minor": 5
}
