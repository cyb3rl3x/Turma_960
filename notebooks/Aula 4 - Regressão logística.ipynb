{
 "cells": [
  {
   "cell_type": "markdown",
   "id": "a980e026",
   "metadata": {},
   "source": [
    "## Classificação"
   ]
  },
  {
   "cell_type": "markdown",
   "id": "33bf7289",
   "metadata": {},
   "source": [
    "**Problemas de classificação** são aqueles em que queremos determinar a que **categoria ou classe** dentro de um **conjunto discreto de classes** uma dada observação pertence, com base em suas features.\n",
    "\n",
    "Para isso, construímos um **classificador**: modelo que tem como input as features (contínuas ou discretas) e como output uma entre as classes (discretas).\n",
    "\n",
    "> Principal diferença entre problemas de regressão e classificação:\n",
    "> - Regressão: valores contínuos;\n",
    "> - Classificação: valores (classes) discretas (binárias ou não).\n",
    "\n",
    "<img src=\"https://i.pinimg.com/originals/71/8e/6a/718e6a40e1782bead960e58d3c52663b.png\" width=300>\n",
    "\n"
   ]
  },
  {
   "cell_type": "markdown",
   "id": "33b8e61c",
   "metadata": {},
   "source": [
    "Problemas de classificação são comumente divididos com relação ao **número de classes** a serem preditas (isto é, com relação à estrutura do espaço de target):\n",
    "\n",
    "- Classificação binária: duas classes (0 e 1);\n",
    "- Classificação multiclasse: $n$ classes (0, 1, ..., $n-1$), com $n > 2 \\in \\mathbb{N}$"
   ]
  },
  {
   "cell_type": "markdown",
   "id": "e2e2418c",
   "metadata": {},
   "source": [
    "Exemplos de problemas de classificação:\n",
    "- **Detecção de e-mails SPAM**: um e-mail é SPAM ou não?;\n",
    "    - **Features**: palavras contidas no corpo do e-mail; remetente; assunto;\n",
    "- **Detecção de doenças**: que codição médica a pessoa tem?\n",
    "    - **Features**: sintomas fisiológicos; resultados de exames (medidas de variáveis biológicas);\n",
    "- **Detecção do tipo de documento**: secreto, confidencial ou não-sensível?\n",
    "    - **Features**: palavras no corpo do texto; título;\n",
    "- **Detecção de fraudes de cartão de crédito**: uma operação é fraudulenta ou não?;\n",
    "    - **Features**: histórico de transações; hora, local e frequência das transações; tipo de compra;\n",
    "- **Modelo de risco de crédito**: qual é a chance de determinada pessoa não pagar seu empréstimo?\n",
    "    - **Features**: histórico de pagamento; score de crédito;\n",
    "    \n",
    "    \n",
    "<img src=\"https://developers.google.com/machine-learning/guides/text-classification/images/TextClassificationExample.png\" width=500>\n",
    "\n",
    "\n",
    "\n",
    "Veremos hoje um dos mais simples e importantes classificadores: a **Regressão Logística!**"
   ]
  },
  {
   "cell_type": "markdown",
   "id": "944b6bed",
   "metadata": {},
   "source": [
    "## Regressão logística"
   ]
  },
  {
   "cell_type": "markdown",
   "id": "f67f5bdd",
   "metadata": {},
   "source": [
    "**Conceito:**\n",
    "> Técnica de aprendizagem de máquina que busca `estimar o valor` de uma variável numérica a partir do `ajuste dos coeficientes` de uma `função logística` construída com um conjunto de `variáveis de entrada`."
   ]
  },
  {
   "cell_type": "markdown",
   "id": "5060e7e7",
   "metadata": {},
   "source": [
    "**Objetivo:**\n",
    "> **modelar a probabilidade $P(\\vec{x})$ de dada observação (com features $\\vec{x}$) pertencer à classe 1**, ou seja, queremos modelar:\n",
    "\n",
    "\n",
    "\n",
    "$$ P( y = 1 | \\vec{x}) $$\n",
    "\n",
    "Naturalmente, $0 \\le P(\\vec{x}) \\le 1$. \n",
    "\n",
    "> Lembre-se que: $ P( y = 0 | \\vec{x}) = 1 - P( y = 1 | \\vec{x}) $\n",
    "\n",
    "Uma vez que tivermos uma função que modele a probabilidade acima, podemos tomar a decisão de classificação da seguinte maneira:\n",
    "\n",
    "- $P(\\vec{x}) \\ge 0.5$: x pertence à classe 1\n",
    "- $P(\\vec{x}) < 0.5$: x pertence à classe 0\n",
    "\n",
    "Obs.: este valor de 0.5 (50%) é chamado de \"cutoff\", e pode ser ajustado, embora seja comum fixá-lo em 50%!"
   ]
  },
  {
   "cell_type": "markdown",
   "id": "88c51cf5",
   "metadata": {},
   "source": [
    "#### Exemplo: Crédito bancário\n",
    "\n",
    "A distribuição de valores x de um conjunto de clientes de uma empresa de crédito pode ser ilustrada pela imagem abaixo de acordo com a classe de cada amostras:"
   ]
  },
  {
   "cell_type": "markdown",
   "id": "18c60039",
   "metadata": {},
   "source": [
    "<img src=\"https://i0.wp.com/datavizpyr.com/wp-content/uploads/2020/03/overlapping_histograms_with_matplotlib_Python.png?resize=576%2C432&ssl=1\" width=500>"
   ]
  },
  {
   "cell_type": "markdown",
   "id": "e4ea0a47",
   "metadata": {},
   "source": [
    "O subconjunto das amostras em azul é formado pelos clientes que não estão aptos a receber crédito. Já o grupo na cor laranja é formado por clientes de crédito.\n",
    "\n",
    "Podemos tentar aproximar os valores dos rótulos das amostras por meio de uma regressão linear, como mostrado a seguir.\n",
    "\n",
    "<figure>\n",
    "    <img src=\"https://s3-sa-east-1.amazonaws.com/lcpi/70189f79-2886-4e59-893b-1dac9dd64078.png\" height=\"400\" width=\"400\">\n",
    "</figure> "
   ]
  },
  {
   "cell_type": "markdown",
   "id": "ff51b3e2",
   "metadata": {},
   "source": [
    "O resultado é um conjunto de probabilidades muito distante dos dados amostrais devido ao uma curva que não é capaz de se ajustar aos dados. Agora, vejamos o comportamento de uma função sigmóide. "
   ]
  },
  {
   "cell_type": "markdown",
   "id": "9b2d4607",
   "metadata": {},
   "source": [
    "<figure>\n",
    "    <img src=\"https://s3-sa-east-1.amazonaws.com/lcpi/6d54529a-d295-47a3-8a11-1f426fde7229.png\" height=\"400\" width=\"400\">\n",
    "</figure> "
   ]
  },
  {
   "cell_type": "markdown",
   "id": "761a3e27",
   "metadata": {},
   "source": [
    "Temos uma curva que está bem mais próxima aos dados e que pode ser ajustada para descrever seu comportamento."
   ]
  },
  {
   "cell_type": "markdown",
   "id": "23b28b8f",
   "metadata": {},
   "source": [
    "#### Função logística (função sigmoidal)"
   ]
  },
  {
   "cell_type": "markdown",
   "id": "8ad4b453",
   "metadata": {},
   "source": [
    "<img src=\"https://miro.medium.com/max/970/1*Xu7B5y9gp0iL5ooBj7LtWw.png\" width=400>\n",
    "\n",
    "Note que:\n",
    "\n",
    "- $z \\in \\mathbb{R}$\n",
    "- $0 \\le \\phi(z) \\le 1$\n",
    "\n",
    "Para incorporar a ideia da regressão linear na regressão logística, tomamos:\n",
    "\n",
    "- $z = b_0 + b_1x$, que é o modelo de regressão linear (uma variável);\n",
    "\n",
    "E substituímos na função logística:\n",
    "\n",
    "- $\\phi(x) = \\frac{1}{1 + e^{-(b_0 + b_1 x)}}$\n",
    "\n",
    "Com isso, tomamos qualquer output real do modelo linear e transformamos em um valor entre 0 e 1, como queríamos!\n",
    "\n",
    "<img src=\"https://s3-sa-east-1.amazonaws.com/lcpi/e5ecf372-6790-49db-9bad-95bc4b19df27.png\" width=\"500\">"
   ]
  },
  {
   "cell_type": "markdown",
   "id": "9bfda93e",
   "metadata": {},
   "source": [
    "### Modelagem"
   ]
  },
  {
   "cell_type": "markdown",
   "id": "f42f6d3b",
   "metadata": {},
   "source": [
    "Crescimento populacional\n",
    "\n",
    "<img src=\"https://cdn.kastatic.org/ka-perseus-images/d9a7c4a6837c9c5718a9b91f695fae7626f72370.png\" width=600>"
   ]
  },
  {
   "cell_type": "code",
   "execution_count": null,
   "id": "31e25b58",
   "metadata": {},
   "outputs": [],
   "source": []
  },
  {
   "cell_type": "markdown",
   "id": "9765294b",
   "metadata": {},
   "source": [
    "#### > Classificação dos dados"
   ]
  },
  {
   "cell_type": "markdown",
   "id": "fcc5323c",
   "metadata": {},
   "source": [
    "<img src=\"https://s3-sa-east-1.amazonaws.com/lcpi/ba4a71cb-4567-4bb4-9dc6-7f96f9f8e6d3.png\" width=500>"
   ]
  },
  {
   "cell_type": "code",
   "execution_count": null,
   "id": "7d5aad5d",
   "metadata": {},
   "outputs": [],
   "source": []
  },
  {
   "cell_type": "markdown",
   "id": "5ee64460",
   "metadata": {},
   "source": [
    "#### Aprendizado\n",
    "\n",
    "Faça [aqui](https://www.geogebra.org/m/KFBFTNPF) o ajuste dos coeficientes.\n",
    "\n",
    "___\n",
    "\n",
    "### Função de perda e algoritmo de aprendizagem\n",
    "\n",
    "A função de perda para a regressão logística é a famosa [binary cross-entropy](https://towardsdatascience.com/understanding-binary-cross-entropy-log-loss-a-visual-explanation-a3ac6025181a), também conhecida como [log loss](https://developers.google.com/machine-learning/crash-course/logistic-regression/model-training)\n",
    "\n",
    "Esta função será de enorme importância no estudo de **redes neurais**.\n",
    "\n",
    "As principais implementações do algoritmo de aprendizagem da regressão logística se baseia no [método de máxima verossimilhança](https://pt.wikipedia.org/wiki/M%C3%A1xima_verossimilhan%C3%A7a). \n",
    "\n",
    "Para maiores detalhes sobre o algoritmo de aprendizagem, veja [este vídeo](https://youtu.be/yIYKR4sgzI8) e [esta série de vídeos](https://youtu.be/vN5cNN2-HWE), do ótimo canal StatQuest!\n",
    "\n",
    "\n",
    "_________"
   ]
  },
  {
   "cell_type": "markdown",
   "id": "4f0c4906",
   "metadata": {},
   "source": [
    "### Estudo de caso"
   ]
  },
  {
   "cell_type": "markdown",
   "id": "a30a54ad",
   "metadata": {},
   "source": [
    "Fonte: <a href=\"https://www.kaggle.com/datasets/gabrielsantello/advertisement-click-on-ad\">Kaggle</a>. \n",
    "Este é um dataset artificial e didático, com os dados bem separáveis, o que é ótimo para ilustração!<br>\n",
    "\n",
    "Visite o Kaggle e procure por \"advertising\" para datasets relacionados reais e ainda mais interessantes\n",
    "\n",
    "A base que utilizaremos contém as seguintes colunas:\n",
    "\n",
    "* 'Daily Time Spent on Site': tempo que o cliente ficou no site (em minutos);\n",
    "* 'Age': idade do cliente (em anos);\n",
    "* 'Area Income': média salarial (por ano) da região geográfica do cliente;\n",
    "* 'Daily Internet Usage': tempo médio (em minutos) que o cliente fica na internet;\n",
    "* 'Ad Topic Line': título do anúncio;\n",
    "* 'City': cidade do cliente;\n",
    "* 'Male': dummy indicando se o cliente é do sexo masculino (1) ou não (0);\n",
    "* 'Country': país do cliente;\n",
    "* 'Timestamp': marcação de tempo em que o cliente clickou no anúncio OU fechou a página\n",
    "* 'Clicked on Ad': dummy indicando se o cliente clickou no anúncio (1) ou não (0).\n",
    "\n",
    "Nosso objetivo é criar um modelo que possa prever se um determinado usuário clickará em um anúncio online ou não, com base em suas características pessoais/comportamentais, bem como informações relativas ao anúncio.\n",
    "\n",
    "Tomamos como variáveis independentes (preditores/features) as primeiras 9 colunas, enquanto nossa variável dependente (target) é a última coluna (\"Clicked on Ad\")."
   ]
  },
  {
   "cell_type": "markdown",
   "id": "2ca6116e",
   "metadata": {},
   "source": [
    "#### Bibliotecas"
   ]
  },
  {
   "cell_type": "code",
   "execution_count": null,
   "id": "ebbc01b0",
   "metadata": {},
   "outputs": [],
   "source": []
  },
  {
   "cell_type": "code",
   "execution_count": null,
   "id": "51240eab",
   "metadata": {},
   "outputs": [],
   "source": []
  },
  {
   "cell_type": "code",
   "execution_count": null,
   "id": "3dd2429d",
   "metadata": {},
   "outputs": [],
   "source": []
  },
  {
   "cell_type": "code",
   "execution_count": null,
   "id": "b6c8c0a5",
   "metadata": {},
   "outputs": [],
   "source": []
  }
 ],
 "metadata": {
  "kernelspec": {
   "display_name": "Python 3 (ipykernel)",
   "language": "python",
   "name": "python3"
  },
  "language_info": {
   "codemirror_mode": {
    "name": "ipython",
    "version": 3
   },
   "file_extension": ".py",
   "mimetype": "text/x-python",
   "name": "python",
   "nbconvert_exporter": "python",
   "pygments_lexer": "ipython3",
   "version": "3.10.9"
  }
 },
 "nbformat": 4,
 "nbformat_minor": 5
}
