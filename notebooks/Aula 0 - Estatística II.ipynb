{
 "cells": [
  {
   "cell_type": "markdown",
   "id": "d500b201",
   "metadata": {},
   "source": [
    "# Apresentação Geral\n",
    "\n",
    "## Professores\n",
    "\n",
    "<b>Professor Titular:</b> Alex Lima <br>\n",
    "E-mail: alexlimacavalera@gmail.com <br>\n",
    "LinkedIn: https://www.linkedin.com/in/alexcavalera/\n",
    "\n",
    "<b>Professor:</b> Marcos de Paula <br>\n",
    "E-mail: marcusele1a@gmail.com <br>\n",
    "\n",
    "<b>Professor:</b> Maurício Sobrinho <br>\n",
    "E-mail: m.luizsobrinho@gmail.com <br>"
   ]
  },
  {
   "cell_type": "markdown",
   "id": "627d71b7",
   "metadata": {},
   "source": [
    "### Importante\n",
    "\n",
    " - <b>Drive das aulas:</b> <a href=\"https://drive.google.com/drive/u/0/folders/1pkhB93rSsmwQ1aD4ey3WycjJ8WdorS-3\"> link </a>\n",
    "\n",
    " - <b>Form de opinião:</b> <a href=\"https://forms.gle/nAcCB8J4BP9F51Qt5\">link</a>\n"
   ]
  },
  {
   "cell_type": "markdown",
   "id": "d856dd9d",
   "metadata": {},
   "source": [
    "## O Curso\n",
    "\n",
    "<b>Ementa do Curso:</b>\n",
    "\n",
    "* <b>Aula 1: Introdução à Estatística para Ciência de Dados</b>\n",
    "    * Conceitos;\n",
    "    * Inteligência artificial;\n",
    "    * Machine learning;\n",
    "    * Deep learning;\n",
    "    * Aplicações;\n",
    "\n",
    "    \n",
    "* <b>Aula 2: Introdução à machine learning</b>\n",
    "    * Conceitos;\n",
    "    * Modelagem;\n",
    "    * Modelos de classificação;\n",
    "    * Modelos de regressão;\n",
    "    * Modelos de agrupamento;\n",
    "    \n",
    "* <b>Aula 3: Regressão linear</b>\n",
    "    * Conceitos;\n",
    "    * Regressão linear simples;\n",
    "    * Regressão linear múltipla;\n",
    "    * Visualização;\n",
    "        \n",
    "* <b>Aula 4: Regressão Logística</b>\n",
    "    * Conceitos;\n",
    "    * Função logística;\n",
    "\n",
    "* <b>Aula 5: Métricas de avaliação</b>\n",
    "    * Métricas de classificação;\n",
    "    * Métricas de regressão;\n",
    "    * Curva ROC\n",
    "\n",
    "* <b>Aula 6: Regularizações</b>\n",
    "    * Conceitos;\n",
    "    * Lasso (L1);\n",
    "    * Rigde (L2);\n",
    "    * ElasticNet (L1 + L2);\n",
    "\n",
    "* <b>Aula 7: Generalização de Modelos Lineares</b>\n",
    "    * Conceitos;\n",
    "    * Tipos de distribuição\n",
    "    * Modelagem generalizada\n",
    "\n",
    "* <b>Aula 8: Redução de Dimensionalidade</b>\n",
    "    * Conceitos;\n",
    "    * PCA;\n",
    "    * LDA\n",
    "\n",
    "* <b>Aula 9: Dados categóricos</b>\n",
    "    * Conceitos;\n",
    "    * Teste Chi;\n",
    "    * ANOVA;\n",
    "\n",
    "* <b>Aula 10: Projetos práticos</b>\n",
    "    * Apresentações\n",
    "    * Avaliações discente\n",
    " \n",
    "\n",
    "    \n",
    "    "
   ]
  },
  {
   "cell_type": "code",
   "execution_count": null,
   "id": "6e264fdb",
   "metadata": {},
   "outputs": [],
   "source": []
  }
 ],
 "metadata": {
  "kernelspec": {
   "display_name": "Python 3 (ipykernel)",
   "language": "python",
   "name": "python3"
  },
  "language_info": {
   "codemirror_mode": {
    "name": "ipython",
    "version": 3
   },
   "file_extension": ".py",
   "mimetype": "text/x-python",
   "name": "python",
   "nbconvert_exporter": "python",
   "pygments_lexer": "ipython3",
   "version": "3.10.9"
  }
 },
 "nbformat": 4,
 "nbformat_minor": 5
}
