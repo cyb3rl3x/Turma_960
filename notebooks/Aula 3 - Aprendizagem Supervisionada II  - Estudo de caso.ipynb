{
 "cells": [
  {
   "cell_type": "markdown",
   "id": "c4c4b022",
   "metadata": {},
   "source": [
    "### Estudo de caso: Previsão de preço de casas"
   ]
  },
  {
   "cell_type": "markdown",
   "id": "a0523bd7",
   "metadata": {},
   "source": [
    "**Descrição do problema**:\n",
    " > Busca-se encontrar um padrão nas residências que esteja associado ao valor monetário das mesmas. Este padrão pode estar associado à região onde o imóvel se encontra, número de cômodos, proximidade com a estrada principal, entre outros. "
   ]
  },
  {
   "cell_type": "markdown",
   "id": "fef4010a",
   "metadata": {},
   "source": [
    "#### Bibliotecas"
   ]
  },
  {
   "cell_type": "code",
   "execution_count": null,
   "id": "13f093f9",
   "metadata": {},
   "outputs": [],
   "source": []
  },
  {
   "cell_type": "markdown",
   "id": "4d94ac2c",
   "metadata": {},
   "source": [
    "#### Dicionário de dados"
   ]
  },
  {
   "cell_type": "markdown",
   "id": "d2e1161c",
   "metadata": {},
   "source": [
    "https://www.kaggle.com/c/house-prices-advanced-regression-techniques/data"
   ]
  },
  {
   "cell_type": "markdown",
   "id": "73ab67de",
   "metadata": {},
   "source": [
    "#### Leitura de dados"
   ]
  },
  {
   "cell_type": "code",
   "execution_count": null,
   "id": "39f3af3d",
   "metadata": {},
   "outputs": [],
   "source": []
  },
  {
   "cell_type": "markdown",
   "id": "9679d5ec",
   "metadata": {},
   "source": [
    "### Análise Exploratória"
   ]
  },
  {
   "cell_type": "code",
   "execution_count": null,
   "id": "93e7312e",
   "metadata": {},
   "outputs": [],
   "source": []
  },
  {
   "cell_type": "code",
   "execution_count": null,
   "id": "8c478086",
   "metadata": {},
   "outputs": [],
   "source": []
  },
  {
   "cell_type": "code",
   "execution_count": null,
   "id": "837c02a8",
   "metadata": {},
   "outputs": [],
   "source": []
  },
  {
   "cell_type": "markdown",
   "id": "0756ba04",
   "metadata": {},
   "source": [
    "### Distribuição dos dados"
   ]
  },
  {
   "cell_type": "code",
   "execution_count": null,
   "id": "e44b43ce",
   "metadata": {},
   "outputs": [],
   "source": []
  },
  {
   "cell_type": "markdown",
   "id": "94bd074d",
   "metadata": {},
   "source": [
    "### Correlação"
   ]
  },
  {
   "cell_type": "code",
   "execution_count": null,
   "id": "4e5b84e3",
   "metadata": {},
   "outputs": [],
   "source": []
  },
  {
   "cell_type": "markdown",
   "id": "1553ba8c",
   "metadata": {},
   "source": [
    "### Outliers"
   ]
  },
  {
   "cell_type": "code",
   "execution_count": null,
   "id": "df882eae",
   "metadata": {},
   "outputs": [],
   "source": []
  },
  {
   "cell_type": "markdown",
   "id": "7148c2b2",
   "metadata": {},
   "source": [
    "### Modelo de regressão linear"
   ]
  },
  {
   "cell_type": "markdown",
   "id": "e2dc6006",
   "metadata": {},
   "source": [
    "\n",
    "$$ \\hat{y} = b_0 + b_1 X $$\n",
    "\n"
   ]
  },
  {
   "cell_type": "markdown",
   "id": "b30993e6",
   "metadata": {},
   "source": [
    "O modelo possui dois parâmetros:\n",
    " - b<sub>0</sub>: chamado de intercepto ou coeficiente linear\n",
    " - b<sub>1</sub>: chamado de coeficiente angular"
   ]
  },
  {
   "cell_type": "markdown",
   "id": "1c44ae5e",
   "metadata": {},
   "source": [
    "**Objetivo >** Ajustar os coeficientes modelo linear de forma que se obtenha o menor erro possível no modelo. "
   ]
  },
  {
   "cell_type": "markdown",
   "id": "6d7c9f21",
   "metadata": {},
   "source": [
    "### O algoritmo de aprendizagem da regressão linear¶"
   ]
  },
  {
   "cell_type": "markdown",
   "id": "677d7bd6",
   "metadata": {},
   "source": [
    "A equação acima exprime a **forma funcional** do conjunto de hipóteses (`espaço de busca`) com o qual trabalharemos: funções lineares de uma úniva variável. Isto é,\n",
    "\n",
    "$$ f_{H, \\vec{b}} = b_0 + b_1 X $$\n",
    "\n",
    "Ou seja,\n",
    "\n",
    "$$ \\mathcal{H} = \\{ f_{H, \\vec{b}}\\} = \\{ b_0 + b_1 X \\} $$ \n",
    "\n",
    "é o conjunto de hipóteses que está sendo considerado, e o vetor de parâmetros é:\n",
    "\n",
    "$$\\vec{b} = \\begin{bmatrix}\n",
    "b_0\\\\ \n",
    "b_1\n",
    "\\end{bmatrix}$$\n"
   ]
  },
  {
   "cell_type": "markdown",
   "id": "72a1c033",
   "metadata": {},
   "source": [
    "### ` Conceito de machine learning:`\n",
    "**''Capacidade de uma máquina de melhorar seu desempenho em uma tarefa específica por meio da experiência.''**\n",
    "\n",
    " - \"Melhorar seu desempenho\" → Otimizar uma métrica (Função de perda) \n",
    " - \"Experiência\" → Treinamento (Ajuste de parâmetros)\n",
    " \n",
    " A partir destes inputs, o algoritmo constrói uma **função de perda**, que nada mais é que uma função que contabiliza **os erros cometidos pelo modelo**.\n",
    "\n",
    "E para sabermos o quanto um modelo está errando é muito simples: basta **compararmos o target predito $\\hat{y}$ com o target real $y$**!\n",
    "\n",
    "Isso pode ser feito de muitas maneiras. A \"maneira\" específica é o que determina a relação funcional da função de custo de interesse. Para regressão linear, a função de perda mais comum é o **erro quadrático (squared error)**:\n",
    "\n",
    "$$\\text{SE}= (y_i-\\hat{y}_i)^2$$\n",
    "\n",
    "Onde $i = 1, 2, \\cdots, n$ é um índice que identifica cada uma das $n$ observações de treino.\n",
    "\n",
    "Obs.: se tomarmos a média do SE em toda a base de treino, temos o **Mean Squared Error** (MSE):\n",
    "\n",
    "$$\\text{MSE} = \\frac 1n\\sum_{i=1}^n(y_i-\\hat{y}_i)^2$$\n"
   ]
  },
  {
   "cell_type": "markdown",
   "id": "7699842e",
   "metadata": {},
   "source": [
    "#### Visualização de um modelo linear"
   ]
  },
  {
   "cell_type": "markdown",
   "id": "28638dec",
   "metadata": {},
   "source": [
    "<img src=https://images.squarespace-cdn.com/content/v1/5acbdd3a25bf024c12f4c8b4/1600368657769-5BJU5FK86VZ6UXZGRC1M/Mean+Squared+Error.png width=400>"
   ]
  },
  {
   "cell_type": "markdown",
   "id": "dbeb4edb",
   "metadata": {},
   "source": [
    "#### Visualização do aprendizado\n",
    "Exemplo"
   ]
  },
  {
   "cell_type": "markdown",
   "id": "778a847c",
   "metadata": {},
   "source": [
    "<img src='https://miro.medium.com/v2/resize:fit:720/1*CjTBNFUEI_IokEOXJ00zKw.gif'>"
   ]
  },
  {
   "cell_type": "markdown",
   "id": "94f0aa68",
   "metadata": {},
   "source": [
    "Assim, podemos resumir o objetivo do algoritmo de aprendizagem como:\n",
    "\n",
    "> Determinar o vetor de parâmetros que minimiza a função de custo nos dados de treino\n"
   ]
  },
  {
   "cell_type": "markdown",
   "id": "238b0229",
   "metadata": {},
   "source": [
    "#### Features"
   ]
  },
  {
   "cell_type": "code",
   "execution_count": null,
   "id": "357619d8",
   "metadata": {},
   "outputs": [],
   "source": []
  },
  {
   "cell_type": "markdown",
   "id": "4152953d",
   "metadata": {},
   "source": [
    "#### Divisão de treino e teste"
   ]
  },
  {
   "cell_type": "code",
   "execution_count": null,
   "id": "ae3dd259",
   "metadata": {},
   "outputs": [],
   "source": []
  },
  {
   "cell_type": "markdown",
   "id": "05038f3f",
   "metadata": {},
   "source": [
    "#### Modelo"
   ]
  },
  {
   "cell_type": "code",
   "execution_count": null,
   "id": "908025b8",
   "metadata": {},
   "outputs": [],
   "source": []
  },
  {
   "cell_type": "markdown",
   "id": "3c68e1ee",
   "metadata": {},
   "source": [
    "#### Treinamento do modelo"
   ]
  },
  {
   "cell_type": "code",
   "execution_count": null,
   "id": "133aff53",
   "metadata": {},
   "outputs": [],
   "source": []
  },
  {
   "cell_type": "markdown",
   "id": "59ec3dd5",
   "metadata": {},
   "source": [
    "#### Variáveis do modelo"
   ]
  },
  {
   "cell_type": "code",
   "execution_count": null,
   "id": "bb0fc466",
   "metadata": {},
   "outputs": [],
   "source": []
  },
  {
   "cell_type": "markdown",
   "id": "7e5a4ee1",
   "metadata": {},
   "source": [
    "#### Interpretação do resultado"
   ]
  },
  {
   "cell_type": "markdown",
   "id": "d85dc140",
   "metadata": {},
   "source": [
    "O nosso modelo final é dado por:\n",
    "\n",
    "$$ \\hat{y} = f_{H, \\hat{\\vec{b}}}(x) =  24899.74 + 102.48 \\times \\text{GrLiveArea}$$\n",
    "\n",
    "Isto quer dizer que:\n",
    "\n",
    "> Aumentando a variável \"GrLiveArea\" em uma unidade faz com que o preço seja aumentado em USD 102.48.<br>\n",
    "> O preço mínimo a ser pago, independente da área construída, é de USD 24899.74!"
   ]
  },
  {
   "cell_type": "code",
   "execution_count": null,
   "id": "a7e1fe3b",
   "metadata": {},
   "outputs": [],
   "source": []
  },
  {
   "cell_type": "markdown",
   "id": "1785de58",
   "metadata": {},
   "source": [
    "#### Predição"
   ]
  },
  {
   "cell_type": "code",
   "execution_count": null,
   "id": "d6ba0c5b",
   "metadata": {},
   "outputs": [],
   "source": []
  },
  {
   "cell_type": "markdown",
   "id": "3609d92d",
   "metadata": {},
   "source": [
    "#### Avaliação"
   ]
  },
  {
   "cell_type": "markdown",
   "id": "8a7221fd",
   "metadata": {},
   "source": [
    "O caso 100% ideal seria $y_i = \\hat{y}_i$, o que produziria uma reta exata!\n",
    "\n",
    "Quanto mais \"espalhados\" estiverem os pontos em torno da reta, em geral **pior é o modelo**, pois ele está errando mais!\n",
    "\n",
    "Uma forma de quantificar isso através de uma métrica conhecida como **$R^2$**, o **coeficiente de determinação**.\n",
    "\n",
    "Este coeficiente indica **o quão próximos os dados estão da reta ajustada**. Por outro lado, o $R^2$ representa a porcentagem de variação na resposta que é explicada pelo modelo.\n",
    "\n",
    "$$R^2 = 1 - \\frac{\\sum_{i=1}^n(y_i-\\hat{y}_i)^2}{\\sum_{i=1}^n(y_i-\\bar{y})^2}$$\n",
    "\n",
    "É possível utilizar o $R^2$ nos dados de treino, mas temos que tomar muito cuidado com a forma como interpretaremos esta métrica! Discutiremos mais a diante a importância de calcularmos as métricas de avaliação também na base de treino.\n"
   ]
  },
  {
   "cell_type": "code",
   "execution_count": null,
   "id": "c890bd3f",
   "metadata": {},
   "outputs": [],
   "source": []
  },
  {
   "cell_type": "code",
   "execution_count": null,
   "id": "860da5b4",
   "metadata": {},
   "outputs": [],
   "source": []
  },
  {
   "cell_type": "markdown",
   "id": "9c4797ab",
   "metadata": {},
   "source": [
    "### Teste de normalidade"
   ]
  },
  {
   "cell_type": "code",
   "execution_count": null,
   "id": "ede56dfe",
   "metadata": {},
   "outputs": [],
   "source": []
  },
  {
   "cell_type": "code",
   "execution_count": null,
   "id": "7a3e8787",
   "metadata": {},
   "outputs": [],
   "source": []
  },
  {
   "cell_type": "markdown",
   "id": "db3d99e9",
   "metadata": {},
   "source": [
    "### Regressão Linear Múltipla"
   ]
  },
  {
   "cell_type": "markdown",
   "id": "7840449b",
   "metadata": {},
   "source": [
    "Podemos passar a utilizar outros atributos (como o número de cômodos, qual é a renda média da vizinhança, etc.), e neste caso teremos uma **Regressão Linear Múltipla**, que é expressa pela seguinte função de hipótese:\n",
    "\n",
    "$$ \\hat{y} = f_{H, \\vec{b}} = b_0 + b_1 X_1 + b_2 X_2 + \\cdots + b_n X_n $$\n",
    "\n",
    "Neste caso, além de $b_0$ e $b_1$, temos também outros coeficientes, um pra cada uma das $n$ features que escolhermos! Ou seja, o vetor de parâmetros tem $n+1$ dimensões:\n",
    "\n",
    "$$\\vec{b} = \\begin{bmatrix}\n",
    "b_0\\\\ \n",
    "b_1\\\\\n",
    "\\vdots\\\\\n",
    "b_n\n",
    "\\end{bmatrix}$$\n",
    "\n",
    "Modelos de regressão múltipla são potencialmente mais precisos, mas há também um lado ruim: nós perdemos a **possibilidade de visualização**. Agora, não temos mais uma reta, mas sim um **hiperplano** que relaciona todas as features com o target!\n",
    "\n",
    "<img src=\"https://miro.medium.com/max/1120/0*rGSfRsMjiQeG5jof.png\" width=500>"
   ]
  },
  {
   "cell_type": "markdown",
   "id": "2f478e2b",
   "metadata": {},
   "source": [
    "#### Features"
   ]
  },
  {
   "cell_type": "code",
   "execution_count": null,
   "id": "ca9a32b6",
   "metadata": {},
   "outputs": [],
   "source": []
  },
  {
   "cell_type": "markdown",
   "id": "b9aa1c52",
   "metadata": {},
   "source": [
    "#### Modelo linear múltiplo"
   ]
  },
  {
   "cell_type": "code",
   "execution_count": null,
   "id": "f4b8c53f",
   "metadata": {},
   "outputs": [],
   "source": []
  },
  {
   "cell_type": "markdown",
   "id": "244f4117",
   "metadata": {},
   "source": [
    "#### Treinamento"
   ]
  },
  {
   "cell_type": "code",
   "execution_count": null,
   "id": "d549228e",
   "metadata": {},
   "outputs": [],
   "source": []
  },
  {
   "cell_type": "markdown",
   "id": "a2e988d5",
   "metadata": {},
   "source": [
    "#### Predição"
   ]
  },
  {
   "cell_type": "code",
   "execution_count": null,
   "id": "be32503e",
   "metadata": {},
   "outputs": [],
   "source": []
  },
  {
   "cell_type": "code",
   "execution_count": null,
   "id": "91dddd9c",
   "metadata": {},
   "outputs": [],
   "source": []
  },
  {
   "cell_type": "markdown",
   "id": "568a7ce7",
   "metadata": {},
   "source": [
    "#### Avaliação dos resultados"
   ]
  },
  {
   "cell_type": "code",
   "execution_count": null,
   "id": "ff0d77e2",
   "metadata": {},
   "outputs": [],
   "source": []
  },
  {
   "cell_type": "code",
   "execution_count": null,
   "id": "3d1a7935",
   "metadata": {},
   "outputs": [],
   "source": []
  },
  {
   "cell_type": "markdown",
   "id": "d1b77906",
   "metadata": {},
   "source": [
    "### Regressão logistica"
   ]
  },
  {
   "cell_type": "code",
   "execution_count": null,
   "id": "79af6936",
   "metadata": {},
   "outputs": [],
   "source": []
  },
  {
   "cell_type": "markdown",
   "id": "2fad7cbd",
   "metadata": {},
   "source": [
    "<img src=\"https://www.saedsayad.com/images/LogReg_1.png\">"
   ]
  },
  {
   "cell_type": "code",
   "execution_count": null,
   "id": "4746b272",
   "metadata": {},
   "outputs": [],
   "source": []
  },
  {
   "cell_type": "markdown",
   "id": "b6e1caf5",
   "metadata": {},
   "source": [
    "#### Referência\n",
    "\n",
    "- [Algoritmo de descida de gradiente](https://towardsdatascience.com/linear-regression-using-gradient-descent-97a6c8700931)"
   ]
  },
  {
   "cell_type": "code",
   "execution_count": null,
   "id": "cc7214d2",
   "metadata": {},
   "outputs": [],
   "source": []
  }
 ],
 "metadata": {
  "kernelspec": {
   "display_name": "Python 3 (ipykernel)",
   "language": "python",
   "name": "python3"
  },
  "language_info": {
   "codemirror_mode": {
    "name": "ipython",
    "version": 3
   },
   "file_extension": ".py",
   "mimetype": "text/x-python",
   "name": "python",
   "nbconvert_exporter": "python",
   "pygments_lexer": "ipython3",
   "version": "3.10.9"
  }
 },
 "nbformat": 4,
 "nbformat_minor": 5
}
