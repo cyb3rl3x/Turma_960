{
  "cells": [
    {
      "cell_type": "markdown",
      "metadata": {
        "id": "AM8QFM0VWQlq"
      },
      "source": [
        "# Importando Bibliotecas"
      ]
    },
    {
      "cell_type": "code",
      "execution_count": null,
      "metadata": {
        "id": "xFQ2rj16vvvu"
      },
      "outputs": [],
      "source": [
        "import matplotlib.pyplot as plt\n",
        "import seaborn as sns\n",
        "import numpy as np\n",
        "import pandas as pd\n",
        "from matplotlib import pyplot as plt"
      ]
    },
    {
      "cell_type": "code",
      "execution_count": null,
      "metadata": {
        "id": "8co-AEAtIjK0"
      },
      "outputs": [],
      "source": [
        "from sklearn.cluster import KMeans\n",
        "from scipy.spatial.distance import pdist\n",
        "from sklearn.metrics import silhouette_samples, silhouette_score\n",
        "from sklearn import datasets\n",
        "from sklearn.metrics.cluster import adjusted_rand_score"
      ]
    },
    {
      "cell_type": "code",
      "execution_count": null,
      "metadata": {
        "id": "bYQ2q5-t6d-L"
      },
      "outputs": [],
      "source": [
        "from google.colab import drive\n",
        "drive.mount('/content/gdrive')"
      ]
    },
    {
      "cell_type": "markdown",
      "metadata": {
        "id": "5s1du1UYXHg0"
      },
      "source": [
        "# Testando o k-Means"
      ]
    },
    {
      "cell_type": "markdown",
      "metadata": {
        "id": "8QX38yc8cghu"
      },
      "source": [
        "# Exemplo 1"
      ]
    },
    {
      "cell_type": "code",
      "execution_count": null,
      "metadata": {
        "id": "RqFn9bp1XKud"
      },
      "outputs": [],
      "source": [
        "path_file = '/content/gdrive/MyDrive/Aulas/Clustering/Dados/'\n",
        "\n",
        "dados1 = pd.read_csv(path_file + 'kmeans_exemplo1.csv')\n",
        "dados1"
      ]
    },
    {
      "cell_type": "code",
      "execution_count": null,
      "metadata": {
        "id": "wqMY9fQzWVzc"
      },
      "outputs": [],
      "source": [
        "dados1.plot(kind='scatter',x=0,y=1)"
      ]
    },
    {
      "cell_type": "markdown",
      "metadata": {
        "id": "O7UdYns2XfbV"
      },
      "source": [
        "Executando o k-means com a seguinte configuração:\n",
        "* n_clusters=4 (número de clusters)\n",
        "* n_init=10 (quantidade de inicializações)\n",
        "* init='random' (inicialização aleatória dos centroides)\n",
        "* max_iter=300\n"
      ]
    },
    {
      "cell_type": "code",
      "execution_count": null,
      "metadata": {
        "id": "fz2Wz0OCXYB9"
      },
      "outputs": [],
      "source": [
        "kmeans = KMeans(n_clusters=5,n_init=10,init='random',max_iter=300)"
      ]
    },
    {
      "cell_type": "code",
      "source": [
        "kmeans.fit(dados1)"
      ],
      "metadata": {
        "id": "sUa8YILXrihC"
      },
      "execution_count": null,
      "outputs": []
    },
    {
      "cell_type": "markdown",
      "metadata": {
        "id": "OkUqDbPIYNo1"
      },
      "source": [
        "Verificando os clusters obtidos"
      ]
    },
    {
      "cell_type": "code",
      "execution_count": null,
      "metadata": {
        "id": "2IhSQWv8YPN1"
      },
      "outputs": [],
      "source": [
        "dados1['cluster'] = kmeans.labels_\n",
        "dados1"
      ]
    },
    {
      "cell_type": "code",
      "execution_count": null,
      "metadata": {
        "id": "5ohphWB-YJjF"
      },
      "outputs": [],
      "source": [
        "sns.scatterplot(data=dados1, x='0', y='1', hue=\"cluster\")"
      ]
    },
    {
      "cell_type": "code",
      "execution_count": null,
      "metadata": {
        "id": "i9Kq1h1_ZYV2"
      },
      "outputs": [],
      "source": [
        "centroids = kmeans.cluster_centers_\n",
        "centroids"
      ]
    },
    {
      "cell_type": "markdown",
      "metadata": {
        "id": "7JOnvSW_Jk8X"
      },
      "source": [
        "Vamos explorar algumas métricas de avaliação para métodos de agrupamento."
      ]
    },
    {
      "cell_type": "code",
      "execution_count": null,
      "metadata": {
        "id": "Rf8NEX8la0jl"
      },
      "outputs": [],
      "source": [
        "# Erro quadrático\n",
        "E = kmeans.inertia_\n",
        "E"
      ]
    },
    {
      "cell_type": "markdown",
      "metadata": {
        "id": "-6BU5EJ2J5Gg"
      },
      "source": [
        "# Índice de Validade Relativa (Silhueta)"
      ]
    },
    {
      "cell_type": "code",
      "execution_count": null,
      "metadata": {
        "id": "c9aDzpHlIYXU"
      },
      "outputs": [],
      "source": [
        "dados1['silhueta'] = silhouette_samples(dados1, kmeans.labels_)\n",
        "dados1"
      ]
    },
    {
      "cell_type": "code",
      "execution_count": null,
      "metadata": {
        "id": "yadTilmpIyZY"
      },
      "outputs": [],
      "source": [
        "# calculando o valor de silhueta para todo o agrupamento\n",
        "dados1.silhueta.mean()"
      ]
    },
    {
      "cell_type": "code",
      "execution_count": null,
      "metadata": {
        "id": "V01TgmMZJHtf"
      },
      "outputs": [],
      "source": [
        "L = []\n",
        "for k in range(2,21): # variando de 2 até 20\n",
        "  kmeans = KMeans(n_clusters=k,n_init=10,init='random',max_iter=300)\n",
        "  kmeans.fit(dados1) # agrupando\n",
        "  silhouette_avg = silhouette_score(dados1, kmeans.labels_)\n",
        "  print('k=',k,'Silhueta=',silhouette_avg)\n",
        "  L.append((k,silhouette_avg))"
      ]
    },
    {
      "cell_type": "code",
      "execution_count": null,
      "metadata": {
        "id": "EwJoApjoI7xK"
      },
      "outputs": [],
      "source": [
        "df_kmeans_silhueta = pd.DataFrame(L)\n",
        "df_kmeans_silhueta.columns = ['k','silhueta']\n",
        "df_kmeans_silhueta"
      ]
    },
    {
      "cell_type": "code",
      "execution_count": null,
      "metadata": {
        "id": "s2_mJjyTI0Rk"
      },
      "outputs": [],
      "source": [
        "df_kmeans_silhueta.plot(kind='line',x='k',y='silhueta')"
      ]
    },
    {
      "cell_type": "markdown",
      "metadata": {
        "id": "D0AQpGXibnF3"
      },
      "source": [
        "Vamos testar uma execução do k-means com finalização prematura, ou seja, o algoritmo finaliza antes de convergir."
      ]
    },
    {
      "cell_type": "code",
      "execution_count": null,
      "metadata": {
        "id": "vPJ9ojFIWyXH"
      },
      "outputs": [],
      "source": [
        "dados1 = pd.read_csv(path_file + 'kmeans_exemplo1.csv')\n",
        "\n",
        "kmeans = KMeans(n_clusters=5,n_init=1,init='random',max_iter=2)\n",
        "kmeans.fit(dados1)\n",
        "\n",
        "dados1['cluster'] = kmeans.labels_\n",
        "\n",
        "sns.scatterplot(data=dados1, x='0', y='1', hue=\"cluster\")"
      ]
    },
    {
      "cell_type": "markdown",
      "metadata": {
        "id": "fvlvxPvmcPu3"
      },
      "source": [
        "# Exemplo 2"
      ]
    },
    {
      "cell_type": "code",
      "execution_count": null,
      "metadata": {
        "id": "cB_38GXncA9O"
      },
      "outputs": [],
      "source": [
        "dados2 = pd.read_csv(path_file + 'kmeans_exemplo2.csv')\n",
        "dados2"
      ]
    },
    {
      "cell_type": "code",
      "execution_count": null,
      "metadata": {
        "id": "szD7jJI2dcVP"
      },
      "outputs": [],
      "source": [
        "sns.scatterplot(data=dados2, x='x', y='y')"
      ]
    },
    {
      "cell_type": "code",
      "execution_count": null,
      "metadata": {
        "id": "QL9LbOw7de1j"
      },
      "outputs": [],
      "source": [
        "kmeans = KMeans(n_clusters=2,n_init=10,init='random',max_iter=300)\n",
        "kmeans.fit(dados2)"
      ]
    },
    {
      "cell_type": "code",
      "execution_count": null,
      "metadata": {
        "id": "tG_XGjvrdv13"
      },
      "outputs": [],
      "source": [
        "dados2['cluster'] = kmeans.labels_\n",
        "dados2"
      ]
    },
    {
      "cell_type": "code",
      "execution_count": null,
      "metadata": {
        "id": "EU-X_ps9dsm_"
      },
      "outputs": [],
      "source": [
        "sns.scatterplot(data=dados2, x='x', y='y', hue=\"cluster\")"
      ]
    },
    {
      "cell_type": "code",
      "execution_count": null,
      "metadata": {
        "id": "gFc9X035d_yP"
      },
      "outputs": [],
      "source": [
        "kmeans.cluster_centers_"
      ]
    },
    {
      "cell_type": "markdown",
      "metadata": {
        "id": "wDw0NRAKeJ2j"
      },
      "source": [
        "# Exemplo 3"
      ]
    },
    {
      "cell_type": "code",
      "execution_count": null,
      "metadata": {
        "id": "5sIg6pl-eAnY"
      },
      "outputs": [],
      "source": [
        "dados3 = pd.read_csv(path_file + 'kmeans_exemplo3.csv')\n",
        "dados3"
      ]
    },
    {
      "cell_type": "code",
      "execution_count": null,
      "metadata": {
        "id": "pWzU44xUe46f"
      },
      "outputs": [],
      "source": [
        "sns.scatterplot(data=dados3, x='x', y='y')"
      ]
    },
    {
      "cell_type": "code",
      "execution_count": null,
      "metadata": {
        "id": "D-wCYmGYe_cm"
      },
      "outputs": [],
      "source": [
        "kmeans = KMeans(n_clusters=4,n_init=10,init='random',max_iter=300)\n",
        "kmeans.fit(dados3)"
      ]
    },
    {
      "cell_type": "code",
      "execution_count": null,
      "metadata": {
        "id": "tQBiG1JMfC7f"
      },
      "outputs": [],
      "source": [
        "dados3['cluster'] = kmeans.labels_"
      ]
    },
    {
      "cell_type": "code",
      "execution_count": null,
      "metadata": {
        "id": "xLrgLulNfFsw"
      },
      "outputs": [],
      "source": [
        "sns.scatterplot(data=dados3, x='x', y='y', hue=\"cluster\")"
      ]
    },
    {
      "cell_type": "markdown",
      "metadata": {
        "id": "fywxlb36fZJP"
      },
      "source": [
        "Vamos tentar mitigar esse problema, aumentando o número de clusters!"
      ]
    },
    {
      "cell_type": "code",
      "execution_count": null,
      "metadata": {
        "id": "9mqL8YC7fcNO"
      },
      "outputs": [],
      "source": [
        "dados3 = pd.read_csv(path_file + 'kmeans_exemplo3.csv')\n",
        "\n",
        "kmeans = KMeans(n_clusters=16,n_init=10,init='random',max_iter=300)\n",
        "kmeans.fit(dados3)\n",
        "\n",
        "dados3['cluster'] = kmeans.labels_\n",
        "\n",
        "sns.scatterplot(data=dados3, x='x', y='y', hue=\"cluster\", legend=None)"
      ]
    },
    {
      "cell_type": "markdown",
      "metadata": {
        "id": "v-3e8p8nwUQi"
      },
      "source": [
        "# Informações complementares\n",
        "\n",
        "Existem dezenas de algoritmos de agrupamento!\n",
        "Iremos estudar mais alguns na aula sobre agrupamento em grandes bases de dados.\n",
        "\n",
        "Para quem quiser se aprofundar nesse tema, verificar a seção de Overview of Clustering Methods.\n",
        "\n",
        "https://scikit-learn.org/stable/modules/clustering.html"
      ]
    }
  ],
  "metadata": {
    "colab": {
      "provenance": []
    },
    "kernelspec": {
      "display_name": "Python 3",
      "name": "python3"
    },
    "language_info": {
      "name": "python"
    }
  },
  "nbformat": 4,
  "nbformat_minor": 0
}