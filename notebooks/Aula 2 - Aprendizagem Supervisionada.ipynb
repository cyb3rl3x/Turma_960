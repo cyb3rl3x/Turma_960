{
 "cells": [
  {
   "cell_type": "markdown",
   "id": "f4b0c0e8",
   "metadata": {},
   "source": [
    "## Aprendizagem Supervisionada"
   ]
  },
  {
   "cell_type": "markdown",
   "id": "71bd58c6",
   "metadata": {},
   "source": [
    "#### Conceito\n",
    "\n",
    " > Tipo de `aprendizagem de máquina` formado por algoritmos que simulam aprendizado com dados previamente rotulados. De modo iterativo, cada amostra é apresentada ao algoritmo e o mesmo gera como saída um possível rótulo para a amostra. O rótulo predito é comparado com o rótulo real e caso o algoritmo erre, um ajuste é feito para que a saída predita se aproxime ao máximo da saída real.\n"
   ]
  },
  {
   "cell_type": "markdown",
   "id": "a2d95154",
   "metadata": {},
   "source": [
    "#### Rótulo:\n",
    "- **Discreto:** Classificação\n",
    "- **Contínuo:** Regressão"
   ]
  },
  {
   "cell_type": "markdown",
   "id": "5e5231ac",
   "metadata": {},
   "source": [
    "<img src=\"https://s3-sa-east-1.amazonaws.com/lcpi/df1dafe9-7c7e-4dec-a8fe-13cff93ab684.png\" width=400>"
   ]
  },
  {
   "cell_type": "markdown",
   "id": "ddb77679",
   "metadata": {},
   "source": [
    "#### Ex.: Temperatura de um ambiente\n",
    "\n",
    "<img src=\"https://s3-sa-east-1.amazonaws.com/lcpi/788cdc1b-20df-407a-82f3-776de685628e.jpg\" width=\"400\">    "
   ]
  },
  {
   "cell_type": "markdown",
   "id": "7f1228ae",
   "metadata": {},
   "source": [
    "### Features - Características dos dados\n",
    "\n",
    " - Desempenho → Métrica \n",
    " - Treinamento e teste → Experiência\n",
    "     - **Features**: Características do objeto alvo da análise\n",
    "     - **Target**: Classe ou valor do objeto\n",
    "\n",
    "<img src=\"https://s3-sa-east-1.amazonaws.com/lcpi/39eea9b9-6906-42e0-9ef1-e7aee4293aa3.jpg\" width=700>"
   ]
  },
  {
   "cell_type": "markdown",
   "id": "5df04f65",
   "metadata": {},
   "source": [
    "### Construção de um modelo de machine learning"
   ]
  },
  {
   "cell_type": "markdown",
   "id": "292d37fe",
   "metadata": {},
   "source": [
    "**Passo 1**: Formulação de hipótese\n",
    " - Disponibilidade dos dados\n",
    " - Padrão nos dados\n",
    " - Oportunidade de negócio\n",
    " - Viabilidade do modelo\n",
    " - EDA\n",
    "    "
   ]
  },
  {
   "cell_type": "markdown",
   "id": "0a1ffe5a",
   "metadata": {},
   "source": [
    "**Passo 02**: Construção do experimento\n",
    " - **Coleta de dados**\n",
    "  - Técnicas de amostragem \n",
    " - Pré-processamento dos dados\n",
    " - Definição de métricas\n",
    " - Seleção de modelo(s)\n",
    "     - Modelo paramétrico ou não paramétrico?\n",
    "     - Conjunto de parâmetros\n",
    "     - Conjunto de hiperparâmetros\n",
    "        "
   ]
  },
  {
   "cell_type": "markdown",
   "id": "e23a4265",
   "metadata": {},
   "source": [
    "**Passo 03**: Construção do modelo\n",
    " - Escolha de ferramentas\n",
    " - Ambiente de execução\n",
    " - Forma de monitoramento do treinamento\n"
   ]
  },
  {
   "cell_type": "markdown",
   "id": "5fb1df2c",
   "metadata": {},
   "source": [
    "**Passo 04**: Avaliação dos resultados\n",
    " - Teste\n",
    " - Comparativo\n",
    " - **Monitoramento**\n",
    "     - Métricas de monitoramento\n",
    "     - Drift"
   ]
  },
  {
   "cell_type": "markdown",
   "id": "1f9b4159",
   "metadata": {},
   "source": [
    "## Desenvolvimento de um modelo"
   ]
  },
  {
   "cell_type": "markdown",
   "id": "8dc50b86",
   "metadata": {},
   "source": [
    "#### 1. Classsificação"
   ]
  },
  {
   "cell_type": "code",
   "execution_count": null,
   "id": "84170883",
   "metadata": {},
   "outputs": [],
   "source": []
  },
  {
   "cell_type": "markdown",
   "id": "bc6ad89f",
   "metadata": {},
   "source": [
    "<img src=\"https://s3-sa-east-1.amazonaws.com/lcpi/37621853-e789-4ccd-aff2-4f3078556cfb.jpg\" width=300>"
   ]
  },
  {
   "cell_type": "markdown",
   "id": "50a6e7db",
   "metadata": {},
   "source": [
    "#### Criar e treinar o modelo de regressão logística\n",
    "Intuição"
   ]
  },
  {
   "cell_type": "markdown",
   "id": "cc7a6633",
   "metadata": {},
   "source": [
    "<img src = \"https://s3-sa-east-1.amazonaws.com/lcpi/b92ec6a5-91b2-45f5-ad65-75978d6f54cc.png\" width=400>"
   ]
  },
  {
   "cell_type": "code",
   "execution_count": null,
   "id": "9c0aa6dc",
   "metadata": {},
   "outputs": [],
   "source": []
  },
  {
   "cell_type": "markdown",
   "id": "27905cf4",
   "metadata": {},
   "source": [
    "#### Acurácia (Accuracy)"
   ]
  },
  {
   "cell_type": "markdown",
   "id": "a470b3f8",
   "metadata": {},
   "source": [
    "<img src=\"https://s3-sa-east-1.amazonaws.com/lcpi/8aa5276a-ef3e-4529-aaec-d13944de905d.png\" width=300>"
   ]
  },
  {
   "cell_type": "markdown",
   "id": "319c3e6b",
   "metadata": {},
   "source": [
    "#### 2. Regressão"
   ]
  },
  {
   "cell_type": "code",
   "execution_count": null,
   "id": "625ba785",
   "metadata": {},
   "outputs": [],
   "source": []
  },
  {
   "cell_type": "markdown",
   "id": "b6bbcc82",
   "metadata": {},
   "source": [
    "#### Regressão Linear"
   ]
  },
  {
   "cell_type": "markdown",
   "id": "ecfe67c2",
   "metadata": {},
   "source": [
    "<img src = \"https://s3-sa-east-1.amazonaws.com/lcpi/a272534b-ac56-4c2e-be0b-3ea95ada54dc.gif\">"
   ]
  },
  {
   "cell_type": "code",
   "execution_count": null,
   "id": "f41671a9",
   "metadata": {},
   "outputs": [],
   "source": []
  }
 ],
 "metadata": {
  "kernelspec": {
   "display_name": "Python 3 (ipykernel)",
   "language": "python",
   "name": "python3"
  },
  "language_info": {
   "codemirror_mode": {
    "name": "ipython",
    "version": 3
   },
   "file_extension": ".py",
   "mimetype": "text/x-python",
   "name": "python",
   "nbconvert_exporter": "python",
   "pygments_lexer": "ipython3",
   "version": "3.10.9"
  }
 },
 "nbformat": 4,
 "nbformat_minor": 5
}
