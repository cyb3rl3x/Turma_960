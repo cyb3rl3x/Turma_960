{
 "cells": [
  {
   "cell_type": "markdown",
   "id": "08808a45",
   "metadata": {},
   "source": [
    "### Transformação de features"
   ]
  },
  {
   "cell_type": "code",
   "execution_count": 1,
   "id": "be03b777",
   "metadata": {},
   "outputs": [],
   "source": [
    "import pandas as pd\n",
    "import numpy as np\n",
    "import matplotlib.pyplot as plt\n",
    "import seaborn as sns\n",
    "from sklearn.datasets import make_regression"
   ]
  },
  {
   "cell_type": "markdown",
   "id": "7a0e5609",
   "metadata": {},
   "source": [
    "### Criando regressão"
   ]
  },
  {
   "cell_type": "code",
   "execution_count": null,
   "id": "9cd75890",
   "metadata": {},
   "outputs": [],
   "source": []
  },
  {
   "cell_type": "markdown",
   "id": "9b3afe71",
   "metadata": {},
   "source": [
    "### Modelo linear"
   ]
  },
  {
   "cell_type": "code",
   "execution_count": null,
   "id": "906c8844",
   "metadata": {},
   "outputs": [],
   "source": []
  },
  {
   "cell_type": "code",
   "execution_count": null,
   "id": "2d72f8e7",
   "metadata": {},
   "outputs": [],
   "source": []
  },
  {
   "cell_type": "markdown",
   "id": "e9cedd53",
   "metadata": {},
   "source": [
    "### Modelo quadrádico"
   ]
  },
  {
   "cell_type": "code",
   "execution_count": null,
   "id": "ba17982e",
   "metadata": {},
   "outputs": [],
   "source": []
  },
  {
   "cell_type": "code",
   "execution_count": null,
   "id": "9fe697a4",
   "metadata": {},
   "outputs": [],
   "source": []
  },
  {
   "cell_type": "markdown",
   "id": "7f2f6a35",
   "metadata": {},
   "source": [
    "Naturalmente, temos métricas bem ruins, dada a escolha ruim de hipótese!\n",
    "\n",
    "Hipótese atual:\n",
    "\n",
    "$$f_{h, \\  \\vec{b}}(x) = b_0 + b_1x$$"
   ]
  },
  {
   "cell_type": "markdown",
   "id": "ebcb3e91",
   "metadata": {},
   "source": [
    "Vamos fazer algo melhor: como nossos dados são aproximadamente quadráticos, faria sentido escolher uma **hipótese quadrática**, não é mesmo? Isto é,\n",
    "\n",
    "$$f_{h, \\  \\vec{b}}(x) = b_0 + b_1x + b_2x^2$$"
   ]
  },
  {
   "cell_type": "markdown",
   "id": "1fdedfe3",
   "metadata": {},
   "source": [
    "E é aqui que entra um dos aspectos mais importantes de um modelo linear como a regressão linear: **o modelo é linear nos parâmetros, não necessariamente nas features!**\n",
    "\n",
    "Ou seja, o termo quadrado que incluímos **pode ser considerado como uma nova feature linear**. Para ver isso, basta definir $z \\equiv x^2$, que voltamos a ter uma hipótese linear, mas agora em duas variáveis:\n",
    "\n",
    "$$f_{h, \\  \\vec{b}}(x, z) = b_0 + b_1x + b_2z$$\n",
    "\n",
    "Ou seja, ainda temos uma regressão linear (múltipla, agora).\n",
    "\n",
    "E isso é verdade para **qualquer** combinação de features que possamos criar!"
   ]
  },
  {
   "cell_type": "markdown",
   "id": "350b98b4",
   "metadata": {},
   "source": [
    "________\n",
    "\n",
    "Um outro exemplo: considere uma hipótese linear para um modelo com duas features $x_1, x_2$:\n",
    "\n",
    "$$f_{h, \\  \\vec{b}}(x_1, x_2) = b_0 + b_1x_1 + b_2x_2$$\n",
    "\n",
    "Caso queiramos produzir um modelo quadrático, temos que incluir os termos $x_1^2, x_2^2$ e também $x_1x_2$ (que também é quadrático), de modo que nossa hipótese fica sendo:\n",
    "\n",
    "$$f_{h, \\  \\vec{b}}(x_1, x_2) = b_0 + b_1x_1 + b_2x_2 + b_3 x_1^2 + b_4 x_2^2 + b_5 x_1 x_2$$\n",
    "\n",
    "O que não deixa de ser uma **regressão linear múltipla** de 5 variáveis ($x_3 \\equiv x_1^2$, $x_4 \\equiv x_2^2$ e $x_5 \\equiv x_1x_2$):\n",
    "\n",
    "$$f_{h, \\  \\vec{b}}(x_1, x_2, x_3, x_4, x_5) = b_0 + b_1x_1 + b_2x_2 + b_3 x_3 + b_4 x_4 + b_5 x_5$$\n",
    "\n",
    "E assim por diante! ;)"
   ]
  },
  {
   "cell_type": "code",
   "execution_count": null,
   "id": "f780bc5f",
   "metadata": {},
   "outputs": [],
   "source": []
  },
  {
   "cell_type": "markdown",
   "id": "9839478e",
   "metadata": {},
   "source": [
    "### Features lineares e polinomiais"
   ]
  },
  {
   "cell_type": "code",
   "execution_count": null,
   "id": "708696b6",
   "metadata": {},
   "outputs": [],
   "source": []
  },
  {
   "cell_type": "code",
   "execution_count": null,
   "id": "ab3f82ca",
   "metadata": {},
   "outputs": [],
   "source": []
  },
  {
   "cell_type": "markdown",
   "id": "9ef2ea84",
   "metadata": {},
   "source": [
    "### Regressão polinomial"
   ]
  },
  {
   "cell_type": "code",
   "execution_count": null,
   "id": "6cbd52d2",
   "metadata": {},
   "outputs": [],
   "source": []
  },
  {
   "cell_type": "markdown",
   "id": "922e9893",
   "metadata": {},
   "source": [
    "### Modelo polinomial"
   ]
  },
  {
   "cell_type": "markdown",
   "id": "39a06ff0",
   "metadata": {},
   "source": [
    "O procedimento acima é bem manual. Pra nossa sorte, o sklearn existe, e uma de suas muitas ferramentas especiais para machine learning (no caso, pré-processamento) é o [polynomial features](https://scikit-learn.org/stable/modules/generated/sklearn.preprocessing.PolynomialFeatures.html), que permite a criação de toda as combinações polinomiais de features automaticamente!\n",
    "\n",
    "O PolynomialFeatures é nosso primeiro exemplo de **transformer** do sklearn - um método cujo objetivo é aplicar alguma **transformação** aos dados. Veremos vários outros exemplos de transformers durante o curso.\n",
    "\n",
    "Em particular, todos os transformers se comportam como se fossem \"estimadores\", no sentido de que eles devem \n",
    "ser \"ajustados\" aos dados -- por isso, eles também têm o método `.fit()` -- que ajusta o transformer aos dados; além do método `.transform()`, que efetivamente transforma os dados. Existe também o `.fit_transform()`, que faz as duas coisas ao mesmo tempo -- mas vamos evitar de usá-lo, por motivos que ficarão claros no futuro próximo.\n",
    "\n",
    "Lembre-se de fitar o transformados sempre nos dados de treino, apenas! Neste caso, não faz muita diferença, mas, para nos acostumarmos a isso, vamos fazer aqui também!"
   ]
  },
  {
   "cell_type": "code",
   "execution_count": null,
   "id": "f57eb216",
   "metadata": {},
   "outputs": [],
   "source": []
  },
  {
   "cell_type": "markdown",
   "id": "eead2e1a",
   "metadata": {},
   "source": [
    "### Atividade - HousePrice"
   ]
  },
  {
   "cell_type": "code",
   "execution_count": null,
   "id": "bd6297d7",
   "metadata": {},
   "outputs": [],
   "source": []
  },
  {
   "cell_type": "code",
   "execution_count": null,
   "id": "9a829c7c",
   "metadata": {},
   "outputs": [],
   "source": []
  },
  {
   "cell_type": "code",
   "execution_count": null,
   "id": "45ad1796",
   "metadata": {},
   "outputs": [],
   "source": []
  },
  {
   "cell_type": "code",
   "execution_count": null,
   "id": "39e6ae43",
   "metadata": {},
   "outputs": [],
   "source": []
  }
 ],
 "metadata": {
  "kernelspec": {
   "display_name": "Python 3 (ipykernel)",
   "language": "python",
   "name": "python3"
  },
  "language_info": {
   "codemirror_mode": {
    "name": "ipython",
    "version": 3
   },
   "file_extension": ".py",
   "mimetype": "text/x-python",
   "name": "python",
   "nbconvert_exporter": "python",
   "pygments_lexer": "ipython3",
   "version": "3.10.9"
  }
 },
 "nbformat": 4,
 "nbformat_minor": 5
}
